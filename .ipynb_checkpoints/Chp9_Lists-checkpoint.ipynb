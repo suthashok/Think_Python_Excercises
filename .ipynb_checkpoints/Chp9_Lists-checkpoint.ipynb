{
 "cells": [
  {
   "cell_type": "code",
   "execution_count": 17,
   "id": "ee543082-d120-41fa-9859-a83564ebb53b",
   "metadata": {},
   "outputs": [],
   "source": [
    "from doctest import run_docstring_examples\n",
    "\n",
    "def run_doctests(func):\n",
    "    run_docstring_examples(func, globals(), name=func.__name__)"
   ]
  },
  {
   "cell_type": "markdown",
   "id": "ef0f8779-9690-4191-8785-d3bae9cf3085",
   "metadata": {
    "jp-MarkdownHeadingCollapsed": true
   },
   "source": [
    "### 9.15.1. Ask a virtual assistant"
   ]
  },
  {
   "cell_type": "markdown",
   "id": "39c200a0-abd7-4fc8-96f6-7b1452322294",
   "metadata": {},
   "source": [
    "### 9.15.2. Exercise Write a Python function to check if Two words are anagrams"
   ]
  },
  {
   "cell_type": "code",
   "execution_count": 12,
   "id": "84478e7e-61eb-4ac4-895b-55ad428411d1",
   "metadata": {},
   "outputs": [],
   "source": [
    "def check_anagram(word1,word2):\n",
    "    \"\"\"Two words are Anagrams if both are of same length and the sorted sequence is exactly same.\n",
    "    \n",
    "    word1: First word to Compare\n",
    "    word2: Second word to Compare\n",
    "\n",
    "    >>> check_anagram('ram','arm')\n",
    "    True\n",
    "    >>> check_anagram('shyam','mash')\n",
    "    False\n",
    "    \"\"\"\n",
    "    if len(word1)==len(word2):\n",
    "        list_word1=sorted(word1)\n",
    "        list_word2=sorted(word2)\n",
    "        for i in range(0,len(word1)):\n",
    "            if list_word1[i]!=list_word2[i]:\n",
    "                return False\n",
    "        return True\n",
    "    return False"
   ]
  },
  {
   "cell_type": "markdown",
   "id": "65996f54-36b7-42f0-b29d-b749f5c5ff18",
   "metadata": {},
   "source": [
    "#### GenAI version"
   ]
  },
  {
   "cell_type": "code",
   "execution_count": null,
   "id": "e12479e6-772b-48d1-939c-728f7ec5fae1",
   "metadata": {},
   "outputs": [],
   "source": [
    "def is_anagram(word1, word2):\n",
    "    # Convert to lowercase and sort the characters\n",
    "    return sorted(word1.lower()) == sorted(word2.lower())"
   ]
  },
  {
   "cell_type": "code",
   "execution_count": 13,
   "id": "c11f5eaf-5cf1-4bf9-ac84-b4dc57056033",
   "metadata": {},
   "outputs": [],
   "source": [
    "run_doctests(check_anagram)"
   ]
  },
  {
   "cell_type": "code",
   "execution_count": 14,
   "id": "e069b1a9-adf3-4de5-b332-18d5d71e333b",
   "metadata": {},
   "outputs": [
    {
     "data": {
      "text/plain": [
       "True"
      ]
     },
     "execution_count": 14,
     "metadata": {},
     "output_type": "execute_result"
    }
   ],
   "source": [
    "check_anagram('takes','saket')"
   ]
  },
  {
   "cell_type": "markdown",
   "id": "758cb0b3-9941-4e53-94a9-9d447f53bd5f",
   "metadata": {},
   "source": [
    "#### Using your function and the word list, find all the anagrams of 'takes'"
   ]
  },
  {
   "cell_type": "code",
   "execution_count": 15,
   "id": "ae9212c7-8eb8-465f-a913-f8bec3a31653",
   "metadata": {},
   "outputs": [],
   "source": [
    "def find_all_anagrams(word_list,target_word):\n",
    "    \"\"\" Use the function and compare each value of word_list with target word\n",
    "    \"\"\"\n",
    "    anagrams=[]\n",
    "    for word in word_list:\n",
    "        if check_anagram(target_word,word):\n",
    "            anagrams.append(word)\n",
    "    return anagrams"
   ]
  },
  {
   "cell_type": "code",
   "execution_count": 18,
   "id": "10108853-3575-4c14-a5ba-c663362de4e1",
   "metadata": {},
   "outputs": [],
   "source": [
    "word_list=[\"saket\", \"kites\", \"skate\", \"kesat\", \"satkie\", \"ketas\"]\n",
    "target_word='takes'"
   ]
  },
  {
   "cell_type": "code",
   "execution_count": 19,
   "id": "c5ecb292-9482-42d3-bbe6-1acc0a6edae6",
   "metadata": {},
   "outputs": [
    {
     "data": {
      "text/plain": [
       "['saket', 'skate', 'kesat', 'ketas']"
      ]
     },
     "execution_count": 19,
     "metadata": {},
     "output_type": "execute_result"
    }
   ],
   "source": [
    "find_all_anagrams(word_list,target_word)"
   ]
  },
  {
   "cell_type": "markdown",
   "id": "a64121b6-6332-4915-b132-671173948787",
   "metadata": {},
   "source": [
    "### 9.15.3. Exercise: Write a function called is_palindrome that takes a string argument and returns True if it is a palindrome and False otherwise."
   ]
  },
  {
   "cell_type": "code",
   "execution_count": 20,
   "id": "e760e38a-b1c9-46de-93f9-2b331a8ea45e",
   "metadata": {},
   "outputs": [],
   "source": [
    "def reverse(word):\n",
    "    return ''.join(reversed(word))"
   ]
  },
  {
   "cell_type": "code",
   "execution_count": 21,
   "id": "ff105a19-f50d-4c74-a191-c44582fe7174",
   "metadata": {},
   "outputs": [],
   "source": [
    "def is_palindrome(word):\n",
    "    \"\"\" A palindrome is a word that is spelled the same backward and forward, like “noon” and “rotator”.\n",
    "    We can use inbuild function reversed for the same.\n",
    "\n",
    "    >>> is_palindrome('noon')\n",
    "    True\n",
    "    >>> is_palindrome('boy')\n",
    "    False\n",
    "    \"\"\"\n",
    "    if word==reverse(word):\n",
    "        return True\n",
    "    return False"
   ]
  },
  {
   "cell_type": "code",
   "execution_count": 22,
   "id": "6ed4fcaa-3244-4aa4-adbe-ae0e6508cf7b",
   "metadata": {},
   "outputs": [],
   "source": [
    "run_doctests(check_anagram)"
   ]
  },
  {
   "cell_type": "code",
   "execution_count": 24,
   "id": "8a1d5eb4-1213-4748-a4cc-6a6d718fc979",
   "metadata": {},
   "outputs": [],
   "source": [
    "word_list=[\"noon\", \"kites\", \"skate\", \"rotator\", \"satkie\", \"ketas\"]"
   ]
  },
  {
   "cell_type": "code",
   "execution_count": 25,
   "id": "291ed513-b0d5-4e78-b664-bfae6cf3b3c4",
   "metadata": {},
   "outputs": [
    {
     "name": "stdout",
     "output_type": "stream",
     "text": [
      "rotator\n"
     ]
    }
   ],
   "source": [
    "for word in word_list:\n",
    "    if len(word) >= 7 and is_palindrome(word):\n",
    "        print(word)"
   ]
  },
  {
   "cell_type": "markdown",
   "id": "756fde3f-d4ce-4338-95ce-51be8f527e4f",
   "metadata": {},
   "source": [
    "#### 9.15.4. Exercise : Write a Function to reverse the Sentence"
   ]
  },
  {
   "cell_type": "code",
   "execution_count": 29,
   "id": "777ef606-c1fd-498b-9765-08ad83c16816",
   "metadata": {},
   "outputs": [],
   "source": [
    "def reverse_sentence(text):\n",
    "    \"\"\"This function will take full sentence as input and reverse the order of the words in the output.\n",
    "    First the sentence will be broken into individual words using split function and space delimitor and stored in a list.\n",
    "    Capitalize function will be used to uppercase first letter of the sentence.\n",
    "\n",
    "    >>> reverse_sentence('Reverse this sentence')\n",
    "    'Sentence this reverse'\n",
    "    >>> reverse_sentence('You are Ram not Shyam')\n",
    "    'Shyam not ram are you'\n",
    "    \"\"\"\n",
    "    initial_sentence=text.split(' ')\n",
    "    reversed_sentence=[]\n",
    "    l=len(initial_sentence)\n",
    "    for i in range(0,l):\n",
    "        reversed_sentence.append(initial_sentence[l-i-1])\n",
    "    final_op=' '.join(reversed_sentence)\n",
    "    return final_op.capitalize()"
   ]
  },
  {
   "cell_type": "code",
   "execution_count": 30,
   "id": "86c63653-c8e0-423c-8a07-91bb55d47dbf",
   "metadata": {},
   "outputs": [],
   "source": [
    "run_doctests(reverse_sentence)"
   ]
  },
  {
   "cell_type": "code",
   "execution_count": 33,
   "id": "9ab66240-21b5-4202-8a81-1bda2bf0314b",
   "metadata": {},
   "outputs": [
    {
     "data": {
      "text/plain": [
       "'Sentence this reverse'"
      ]
     },
     "execution_count": 33,
     "metadata": {},
     "output_type": "execute_result"
    }
   ],
   "source": [
    "reverse_sentence('Reverse this sentence')"
   ]
  },
  {
   "cell_type": "markdown",
   "id": "083cdd0e-2e10-4bc6-b323-a15c05b08273",
   "metadata": {},
   "source": [
    "#### 9.15.5. Exercise : Write a function called total_length that takes a list of strings and returns the total length of the strings."
   ]
  },
  {
   "cell_type": "code",
   "execution_count": 37,
   "id": "4b983147-926d-4bae-bd24-aeb4846e1758",
   "metadata": {},
   "outputs": [],
   "source": [
    "def total_length(strings):\n",
    "    \"\"\" This function will take each list element as string, compute the length and sum over the entire list.\n",
    "\n",
    "    >>> total_length(['Ram','Shyam','Narayan'])\n",
    "    15\n",
    "    \"\"\"\n",
    "    total_length=0\n",
    "    for text in strings:\n",
    "        total_length=total_length+len(text)\n",
    "    return total_length"
   ]
  },
  {
   "cell_type": "code",
   "execution_count": 38,
   "id": "4748e51a-c695-4483-b744-defae1f69480",
   "metadata": {},
   "outputs": [],
   "source": [
    "run_doctests(reverse_sentence)"
   ]
  },
  {
   "cell_type": "code",
   "execution_count": 39,
   "id": "55eb0c64-2033-48f8-93e6-5bd726a12d38",
   "metadata": {},
   "outputs": [
    {
     "data": {
      "text/plain": [
       "15"
      ]
     },
     "execution_count": 39,
     "metadata": {},
     "output_type": "execute_result"
    }
   ],
   "source": [
    "total_length(['Ram','Shyam','Narayan'])"
   ]
  },
  {
   "cell_type": "markdown",
   "id": "0f3afae9-b4ac-4c51-a878-341cb3148db0",
   "metadata": {},
   "source": [
    "#### End"
   ]
  }
 ],
 "metadata": {
  "kernelspec": {
   "display_name": "Python 3 (ipykernel)",
   "language": "python",
   "name": "python3"
  },
  "language_info": {
   "codemirror_mode": {
    "name": "ipython",
    "version": 3
   },
   "file_extension": ".py",
   "mimetype": "text/x-python",
   "name": "python",
   "nbconvert_exporter": "python",
   "pygments_lexer": "ipython3",
   "version": "3.10.0"
  }
 },
 "nbformat": 4,
 "nbformat_minor": 5
}
